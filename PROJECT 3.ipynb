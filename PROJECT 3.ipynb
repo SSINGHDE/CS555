{
 "cells": [
  {
   "cell_type": "code",
   "execution_count": 2,
   "id": "02625ce6",
   "metadata": {},
   "outputs": [],
   "source": [
    "from prettytable import PrettyTable\n",
    "from datetime import date\n",
    "import datetime"
   ]
  },
  {
   "cell_type": "code",
   "execution_count": 3,
   "id": "99fd35c3",
   "metadata": {},
   "outputs": [],
   "source": [
    "def famList():\n",
    "    flist = [0 for i in range(6)]\n",
    "    flist[5] = []\n",
    "    return flist"
   ]
  },
  {
   "cell_type": "code",
   "execution_count": 4,
   "id": "3bc9fe7c",
   "metadata": {},
   "outputs": [],
   "source": [
    "def indiList():\n",
    "    return [0 for i in range(7)]"
   ]
  },
  {
   "cell_type": "code",
   "execution_count": 6,
   "id": "3b1daa9b",
   "metadata": {},
   "outputs": [],
   "source": [
    "def lName(s):\n",
    "    data=''\n",
    "    for i in s:\n",
    "        if(i != '/'):\n",
    "            data += i\n",
    "    return data"
   ]
  },
  {
   "cell_type": "code",
   "execution_count": 8,
   "id": "e67c8831",
   "metadata": {},
   "outputs": [],
   "source": [
    "def getNameByID(indiList, ID):\n",
    "    for i in indiList:\n",
    "        if(i[0] == ID):\n",
    "            return i[1]\n",
    "def fileLength(f):\n",
    "    for i,l in enumerate(f):\n",
    "        pass\n",
    "    return i+1"
   ]
  },
  {
   "cell_type": "code",
   "execution_count": 10,
   "id": "a06725a6",
   "metadata": {},
   "outputs": [],
   "source": [
    "def gedcomRead(fileName):\n",
    "    readFile = open(fileName,'r')\n",
    "    f = fileLength(open(fileName))\n",
    "    indiVal = 0\n",
    "    famVal = 0\n",
    "    indi_list = []\n",
    "    fam_list = []\n",
    "    indiData = indiList()\n",
    "    famData = famList()\n",
    "    for line in readFile:\n",
    "        s = line.split()\n",
    "        if(s != []):\n",
    "            if(s[0] == '1'):\n",
    "                if(s[1] == 'NAME'):\n",
    "                    indiData[1] = s[2] + \" \" + lName(s[3])\n",
    "                if(s[1] == 'SEX'):\n",
    "                    indiData[2] = s[2]\n",
    "                if(s[1] == 'BIRT'):\n",
    "                    dateID = 'BIRT'\n",
    "                if(s[1] == 'DEAT'):\n",
    "                    dateID = 'DEAT'\n",
    "                if(s[1] == 'MARR'):\n",
    "                    dateID = 'MARR'\n",
    "                if(s[1] == 'DIV'):\n",
    "                    dateID = 'DIV'\n",
    "                if(s[1] == 'FAMS'):\n",
    "                    indiData[5] = s[2]\n",
    "                if(s[1] == 'FAMC'):\n",
    "                    indiData[6] = s[2]\n",
    "                if(s[1] == 'HUSB'):\n",
    "                    famData[1] = s[2]\n",
    "                if(s[1] == 'WIFE'):\n",
    "                    famData[2] = s[2]\n",
    "                if(s[1] == 'CHIL'):\n",
    "                    famData[5].append(s[2])\n",
    "            if(s[0] == '2'):\n",
    "                if(s[1] == 'DATE'):\n",
    "                    date = s[4] + \" \" + s[3] + \" \" + s[2]\n",
    "                    if(dateID == 'BIRT'):\n",
    "                        indiData[3] = date\n",
    "                    if(dateID == 'DEAT'):\n",
    "                        indiData[4] = date\n",
    "                    if(dateID == 'MARR'):\n",
    "                        famData[3] = date\n",
    "                    if(dateID == 'DIV'):\n",
    "                        famData[4] = date\n",
    "        if(s[0] == '0'):\n",
    "            if(indiVal == 1):\n",
    "                indi_list.append(indiData)\n",
    "                indiData = indiList()\n",
    "                indiVal = 0\n",
    "            if(famVal == 1):\n",
    "                fam_list.append(famData)\n",
    "                famData = famList()\n",
    "                famVal = 0\n",
    "            if(s[1] in ['NOTE', 'HEAD', 'TRLR']):\n",
    "                pass\n",
    "            else:\n",
    "                if(s[2] == 'INDI'):\n",
    "                    indiVal = 1\n",
    "                    indiData[0] = (s[1])\n",
    "                if(s[2] == 'FAM'):\n",
    "                    famVal = 1\n",
    "                    famData[0] = (s[1])\n",
    "    return indi_list, fam_list"
   ]
  },
  {
   "cell_type": "code",
   "execution_count": 11,
   "id": "ec156173",
   "metadata": {},
   "outputs": [],
   "source": [
    "def isAlive(deadVar):\n",
    "    if(deadVar == 0):\n",
    "        return True\n",
    "    else :\n",
    "        return False\n",
    "def convertToNA(value):\n",
    "    if(value == 0):\n",
    "        return \"NA\"\n",
    "    else:\n",
    "        return value\n",
    "def calculateAge(birthDate): \n",
    "    today = date.today() \n",
    "    age = today.year - int(birthDate[0]) - ((today.month, today.day) < (int(getMonth(birthDate[1])), int(birthDate[2]))) \n",
    "    return age"
   ]
  },
  {
   "cell_type": "code",
   "execution_count": 12,
   "id": "a4aab550",
   "metadata": {},
   "outputs": [],
   "source": [
    "def splitBdate(dateStr):\n",
    "    dateArr = dateStr.split(\" \")\n",
    "    return dateArr\n",
    "def getMonth(monthStr):\n",
    "    full_date = datetime.datetime.strptime(monthStr, \"%b\")\n",
    "    return full_date.month"
   ]
  },
  {
   "cell_type": "code",
   "execution_count": 17,
   "id": "867fc82f",
   "metadata": {},
   "outputs": [
    {
     "name": "stdout",
     "output_type": "stream",
     "text": [
      "Individials\n",
      "+-------+----------------+-----+-------------+-----+-------+-------------+--------+-------+\n",
      "|   ID  |      Name      | Sex |  Birth Date | Age | Alive |  Death Date | Spouse | Child |\n",
      "+-------+----------------+-----+-------------+-----+-------+-------------+--------+-------+\n",
      "| @I10@ | Shivkumar Rao  |  M  | 1961 SEP 13 |  60 |  True |      NA     |  @F8@  |   NA  |\n",
      "| @I11@ |  Keshav Kumar  |  M  |  1985 JAN 2 |  37 |  True |      NA     |  @F9@  |  @F5@ |\n",
      "| @I12@ | Priya Pradhan  |  F  | 1965 JUN 19 |  56 |  True |      NA     |  @F8@  |   NA  |\n",
      "| @I13@ |   Shilpa Rao   |  F  | 1983 AUG 21 |  38 |  True |      NA     | @F10@  |  @F8@ |\n",
      "| @I14@ |   Satish Rao   |  M  | 1994 JUN 18 |  27 |  True |      NA     |   NA   |  @F4@ |\n",
      "| @I15@ |   Arun Gupta   |  M  |  1982 OCT 5 |  39 |  True |      NA     |  @F7@  |   NA  |\n",
      "| @I16@ |  Nisha Gupta   |  F  | 2009 DEC 24 |  12 |  True |      NA     |   NA   |  @F7@ |\n",
      "| @I17@ |   Nina Singh   |  F  | 1989 JAN 31 |  33 |  True |      NA     |  @F1@  |   NA  |\n",
      "| @I18@ |   Rishi Seth   |  M  | 1983 APR 22 |  39 |  True |      NA     | @F10@  |   NA  |\n",
      "| @I19@ | Sakshi Kapoor  |  F  | 1988 FEB 29 |  34 |  True |      NA     |  @F9@  |   NA  |\n",
      "|  @I1@ |  Samay Singh   |  M  | 1987 MAY 13 |  35 |  True |      NA     |  @F1@  |  @F2@ |\n",
      "| @I20@ |  Sareen Kumar  |  F  | 2013 APR 20 |  9  |  True |      NA     |   NA   |  @F9@ |\n",
      "|  @I2@ | Satyajit Singh |  M  |  1958 FEB 4 |  64 |  True |      NA     |  @F2@  |  @F3@ |\n",
      "|  @I3@ | Susmita Sharma |  F  | 1960 JAN 15 |  62 |  True |      NA     |  @F2@  |   NA  |\n",
      "|  @I4@ | Sukumar Singh  |  M  | 1934 DEC 14 |  87 |  True |      NA     |  @F3@  |   NA  |\n",
      "|  @I5@ | Saswati Kumari |  F  | 1935 NOV 30 |  86 |  True |      NA     |  @F3@  |   NA  |\n",
      "|  @I6@ |  Sujata Singh  |  F  |  1962 JUL 8 |  59 |  True |      NA     |  @F6@  |  @F3@ |\n",
      "|  @I7@ | Sheetal Singh  |  F  | 1985 MAR 12 |  37 |  True |      NA     |  @F7@  |  @F2@ |\n",
      "|  @I8@ | Sushila Singh  |  F  |  1961 APR 9 |  61 |  True |      NA     |   NA   |  @F3@ |\n",
      "|  @I9@ | Kaplesh Kumar  |  M  |  1960 AUG 6 |  61 | False | 1990 OCT 16 |  @F5@  |   NA  |\n",
      "+-------+----------------+-----+-------------+-----+-------+-------------+--------+-------+\n",
      "Families\n",
      "+-------+-------------+-------------+------------+----------------+--------+----------------+--------------------------+\n",
      "|   ID  |   Married   |   Divorced  | Husband ID | Husband's Name | Wif ID |  Wife's Name   |         Children         |\n",
      "+-------+-------------+-------------+------------+----------------+--------+----------------+--------------------------+\n",
      "| @F10@ | 2022 MAR 14 |      NA     |   @I18@    |   Rishi Seth   | @I13@  |   Shilpa Rao   |            []            |\n",
      "|  @F1@ | 2014 DEC 18 |      NA     |    @I1@    |  Samay Singh   | @I17@  |   Nina Singh   |            []            |\n",
      "|  @F2@ | 1980 SEP 26 |      NA     |    @I2@    | Satyajit Singh |  @I3@  | Susmita Sharma |     ['@I1@', '@I7@']     |\n",
      "|  @F3@ | 1956 SEP 17 |      NA     |    @I4@    | Sukumar Singh  |  @I5@  | Saswati Kumari | ['@I2@', '@I6@', '@I8@'] |\n",
      "|  @F4@ | 1993 MAY 12 |      NA     |   @I10@    | Shivkumar Rao  |  @I6@  |  Sujata Singh  |        ['@I14@']         |\n",
      "|  @F5@ | 1981 MAY 10 |      NA     |    @I9@    | Kaplesh Kumar  |  @I6@  |  Sujata Singh  |        ['@I11@']         |\n",
      "|  @F6@ |      0      |      NA     |     0      |      None      |  @I6@  |  Sujata Singh  |            []            |\n",
      "|  @F7@ |  2005 MAY 6 |      NA     |   @I15@    |   Arun Gupta   |  @I7@  | Sheetal Singh  |        ['@I16@']         |\n",
      "|  @F8@ | 1981 MAY 23 | 1988 AUG 15 |   @I10@    | Shivkumar Rao  | @I12@  | Priya Pradhan  |        ['@I13@']         |\n",
      "|  @F9@ | 2010 JUN 16 |      NA     |   @I11@    |  Keshav Kumar  | @I19@  | Sakshi Kapoor  |        ['@I20@']         |\n",
      "+-------+-------------+-------------+------------+----------------+--------+----------------+--------------------------+\n"
     ]
    }
   ],
   "source": [
    "indi_list, fam_list = gedcomRead(r\"C:\\Users\\sidha\\Stevens\\CS 555 - Agile Methods for Software Development\\Project\\Project 2\\Family tree.ged\")\n",
    "indi_list.sort()\n",
    "fam_list.sort()\n",
    "indiTable = PrettyTable([\"ID\", \"Name\" , \"Sex\", \"Birth Date\", \"Age\" , \n",
    "\"Alive\" , \n",
    "\"Death Date\" , \"Spouse\" , \"Child\"])\n",
    "#adding the details about individuals to the table\n",
    "for i in indi_list:\n",
    "    indiTable.add_row([i[0] , i[1], i[2] , i[3], calculateAge(splitBdate(i[3])) , isAlive(i[4]) , convertToNA(i[4]) , \n",
    "convertToNA(i[5]) , convertToNA(i[6])])\n",
    "print(\"Individials\")\n",
    "print (indiTable)\n",
    "famTable = PrettyTable([\"ID\", \"Married\", \"Divorced\", \"Husband ID\", \"Husband's Name\" , \"Wif ID\" , \"Wife's Name\" , \"Children\"])\n",
    "#adding Husband's and wife's details to the table\n",
    "for i in fam_list:\n",
    "    famTable.add_row([i[0] , i[3] , convertToNA(i[4]) , i[1] , getNameByID(indi_list,i[1]) , i[2] , getNameByID(indi_list,i[2]) , i[5]])\n",
    "print(\"Families\")\n",
    "print (famTable)"
   ]
  },
  {
   "cell_type": "code",
   "execution_count": null,
   "id": "fa867755",
   "metadata": {},
   "outputs": [],
   "source": [
    "           "
   ]
  },
  {
   "cell_type": "code",
   "execution_count": null,
   "id": "92618b15",
   "metadata": {},
   "outputs": [],
   "source": []
  },
  {
   "cell_type": "code",
   "execution_count": null,
   "id": "287e187a",
   "metadata": {},
   "outputs": [],
   "source": []
  }
 ],
 "metadata": {
  "kernelspec": {
   "display_name": "Python 3 (ipykernel)",
   "language": "python",
   "name": "python3"
  },
  "language_info": {
   "codemirror_mode": {
    "name": "ipython",
    "version": 3
   },
   "file_extension": ".py",
   "mimetype": "text/x-python",
   "name": "python",
   "nbconvert_exporter": "python",
   "pygments_lexer": "ipython3",
   "version": "3.8.10"
  }
 },
 "nbformat": 4,
 "nbformat_minor": 5
}
