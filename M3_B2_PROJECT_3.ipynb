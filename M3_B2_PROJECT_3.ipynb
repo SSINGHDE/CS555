{
 "cells": [
  {
   "cell_type": "code",
   "execution_count": 12,
   "id": "a71c5bd2",
   "metadata": {},
   "outputs": [],
   "source": [
    "from prettytable import PrettyTable\n",
    "from datetime import date\n",
    "import datetime\n",
    "import pandas as pd"
   ]
  },
  {
   "cell_type": "code",
   "execution_count": 2,
   "id": "e3b64085",
   "metadata": {},
   "outputs": [],
   "source": [
    "def famList():\n",
    "    flist = [0 for i in range(6)]\n",
    "    flist[5] = []\n",
    "    return flist"
   ]
  },
  {
   "cell_type": "code",
   "execution_count": 3,
   "id": "98b29aad",
   "metadata": {},
   "outputs": [],
   "source": [
    "def indiList():\n",
    "    return [0 for i in range(7)]"
   ]
  },
  {
   "cell_type": "code",
   "execution_count": 4,
   "id": "e39fd203",
   "metadata": {},
   "outputs": [],
   "source": [
    "def lName(s):\n",
    "    data=''\n",
    "    for i in s:\n",
    "        if(i != '/'):\n",
    "            data += i\n",
    "    return data"
   ]
  },
  {
   "cell_type": "code",
   "execution_count": 5,
   "id": "dd95696e",
   "metadata": {},
   "outputs": [],
   "source": [
    "def getNameByID(indiList, ID):\n",
    "    for i in indiList:\n",
    "        if(i[0] == ID):\n",
    "            return i[1]\n",
    "def fileLength(f):\n",
    "    for i,l in enumerate(f):\n",
    "        pass\n",
    "    return i+1"
   ]
  },
  {
   "cell_type": "code",
   "execution_count": 6,
   "id": "cca28d7a",
   "metadata": {},
   "outputs": [],
   "source": [
    "def gedcomRead(fileName):\n",
    "    readFile = open(fileName,'r')\n",
    "    f = fileLength(open(fileName))\n",
    "    indiVal = 0\n",
    "    famVal = 0\n",
    "    indi_list = []\n",
    "    fam_list = []\n",
    "    indiData = indiList()\n",
    "    famData = famList()\n",
    "    for line in readFile:\n",
    "        s = line.split()\n",
    "        if(s != []):\n",
    "            if(s[0] == '1'):\n",
    "                if(s[1] == 'NAME'):\n",
    "                    indiData[1] = s[2] + \" \" + lName(s[3])\n",
    "                if(s[1] == 'SEX'):\n",
    "                    indiData[2] = s[2]\n",
    "                if(s[1] == 'BIRT'):\n",
    "                    dateID = 'BIRT'\n",
    "                if(s[1] == 'DEAT'):\n",
    "                    dateID = 'DEAT'\n",
    "                if(s[1] == 'MARR'):\n",
    "                    dateID = 'MARR'\n",
    "                if(s[1] == 'DIV'):\n",
    "                    dateID = 'DIV'\n",
    "                if(s[1] == 'FAMS'):\n",
    "                    indiData[5] = s[2]\n",
    "                if(s[1] == 'FAMC'):\n",
    "                    indiData[6] = s[2]\n",
    "                if(s[1] == 'HUSB'):\n",
    "                    famData[1] = s[2]\n",
    "                if(s[1] == 'WIFE'):\n",
    "                    famData[2] = s[2]\n",
    "                if(s[1] == 'CHIL'):\n",
    "                    famData[5].append(s[2])\n",
    "            if(s[0] == '2'):\n",
    "                if(s[1] == 'DATE'):\n",
    "                    date = s[4] + \" \" + s[3] + \" \" + s[2]\n",
    "                    if(dateID == 'BIRT'):\n",
    "                        indiData[3] = date\n",
    "                    if(dateID == 'DEAT'):\n",
    "                        indiData[4] = date\n",
    "                    if(dateID == 'MARR'):\n",
    "                        famData[3] = date\n",
    "                    if(dateID == 'DIV'):\n",
    "                        famData[4] = date\n",
    "        if(s[0] == '0'):\n",
    "            if(indiVal == 1):\n",
    "                indi_list.append(indiData)\n",
    "                indiData = indiList()\n",
    "                indiVal = 0\n",
    "            if(famVal == 1):\n",
    "                fam_list.append(famData)\n",
    "                famData = famList()\n",
    "                famVal = 0\n",
    "            if(s[1] in ['NOTE', 'HEAD', 'TRLR']):\n",
    "                pass\n",
    "            else:\n",
    "                if(s[2] == 'INDI'):\n",
    "                    indiVal = 1\n",
    "                    indiData[0] = (s[1])\n",
    "                if(s[2] == 'FAM'):\n",
    "                    famVal = 1\n",
    "                    famData[0] = (s[1])\n",
    "    return indi_list, fam_list"
   ]
  },
  {
   "cell_type": "code",
   "execution_count": 7,
   "id": "31178f79",
   "metadata": {},
   "outputs": [],
   "source": [
    "def isAlive(deadVar):\n",
    "    if(deadVar == 0):\n",
    "        return True\n",
    "    else :\n",
    "        return False\n",
    "def convertToNA(value):\n",
    "    if(value == 0):\n",
    "        return \"NA\"\n",
    "    else:\n",
    "        return value\n",
    "def calculateAge(birthDate): \n",
    "    today = date.today() \n",
    "    age = today.year - int(birthDate[0]) - ((today.month, today.day) < (int(getMonth(birthDate[1])), int(birthDate[2]))) \n",
    "    return age"
   ]
  },
  {
   "cell_type": "code",
   "execution_count": 8,
   "id": "4537443f",
   "metadata": {},
   "outputs": [],
   "source": [
    "def splitBdate(dateStr):\n",
    "    dateArr = dateStr.split(\" \")\n",
    "    return dateArr\n",
    "def getMonth(monthStr):\n",
    "    full_date = datetime.datetime.strptime(monthStr, \"%b\")\n",
    "    return full_date.month"
   ]
  },
  {
   "cell_type": "code",
   "execution_count": 9,
   "id": "694080b0",
   "metadata": {},
   "outputs": [],
   "source": [
    "def prettytab(indi_list, fam_list):\n",
    "    indi_list.sort()\n",
    "    fam_list.sort()\n",
    "    indiTable = PrettyTable([\"ID\", \"Name\" , \"Sex\", \"Birth Date\", \"Age\" , \n",
    "    \"Alive\" , \n",
    "    \"Death Date\" , \"Spouse\" , \"Child\"])\n",
    "    #adding the details about individuals to the table\n",
    "    for i in indi_list:\n",
    "        indiTable.add_row([i[0] , i[1], i[2] , i[3], calculateAge(splitBdate(i[3])) , isAlive(i[4]) , convertToNA(i[4]) , \n",
    "    convertToNA(i[5]) , convertToNA(i[6])])\n",
    "    print(\"Individials\")\n",
    "    famTable = PrettyTable([\"ID\", \"Married\", \"Divorced\", \"Husband ID\", \"Husband's Name\" , \"Wife ID\" , \"Wife's Name\" , \"Children\"])\n",
    "    #adding Husband's and wife's details to the table\n",
    "    for i in fam_list:\n",
    "        famTable.add_row([i[0] , i[3] , convertToNA(i[4]) , i[1] , getNameByID(indi_list,i[1]) , i[2] , getNameByID(indi_list,i[2]) , i[5]])\n",
    "    print(\"Families\")\n",
    "    return indiTable, famTable"
   ]
  },
  {
   "cell_type": "code",
   "execution_count": 10,
   "id": "7b5f5c68",
   "metadata": {},
   "outputs": [],
   "source": [
    "def prettytab_new(indi_list, fam_list):\n",
    "    indi_list.sort()\n",
    "    fam_list.sort()\n",
    "    indiTable = PrettyTable([\"ID\", \"Name\" , \"Sex\", \"Birth Date\", \"Age\" , \n",
    "    \"Alive\" , \n",
    "    \"Death Date\" , \"Spouse\" , \"Child\"])\n",
    "    #adding the details about individuals to the table\n",
    "    for i in indi_list:\n",
    "        indiTable.add_row([i[0] , i[1], i[2] , i[3], calculateAge(splitBdate(i[3])) , isAlive(i[4]) , convertToNA(i[4]) , \n",
    "    convertToNA(i[5]) , convertToNA(i[6])])\n",
    "    famTable = PrettyTable([\"ID\", \"Married\", \"Divorced\", \"Husband ID\", \"Husband's Name\" , \"Wif ID\" , \"Wife's Name\" , \"Children\"])\n",
    "    #adding Husband's and wife's details to the table\n",
    "    for i in fam_list:\n",
    "        famTable.add_row([i[0] , i[3] , convertToNA(i[4]) , i[1] , getNameByID(indi_list,i[1]) , i[2] , getNameByID(indi_list,i[2]) , i[5]])\n",
    "    return indiTable, famTable"
   ]
  },
  {
   "cell_type": "code",
   "execution_count": 11,
   "id": "e80bea09",
   "metadata": {},
   "outputs": [],
   "source": [
    "def printtable(tab):\n",
    "    print(tab)"
   ]
  }
 ],
 "metadata": {
  "kernelspec": {
   "display_name": "Python 3 (ipykernel)",
   "language": "python",
   "name": "python3"
  },
  "language_info": {
   "codemirror_mode": {
    "name": "ipython",
    "version": 3
   },
   "file_extension": ".py",
   "mimetype": "text/x-python",
   "name": "python",
   "nbconvert_exporter": "python",
   "pygments_lexer": "ipython3",
   "version": "3.8.10"
  }
 },
 "nbformat": 4,
 "nbformat_minor": 5
}
