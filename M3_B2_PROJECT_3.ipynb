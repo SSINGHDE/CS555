{
 "cells": [
  {
   "cell_type": "code",
   "execution_count": 2,
   "id": "a71c5bd2",
   "metadata": {},
   "outputs": [],
   "source": [
    "from prettytable import PrettyTable\n",
    "from datetime import date\n",
    "import datetime\n",
    "import pandas as pd"
   ]
  },
  {
   "cell_type": "code",
   "execution_count": 3,
   "id": "e3b64085",
   "metadata": {},
   "outputs": [],
   "source": [
    "def famList():\n",
    "    flist = [0 for i in range(6)]\n",
    "    flist[5] = []\n",
    "    return flist"
   ]
  },
  {
   "cell_type": "code",
   "execution_count": 4,
   "id": "98b29aad",
   "metadata": {},
   "outputs": [],
   "source": [
    "def indiList():\n",
    "    return [0 for i in range(7)]"
   ]
  },
  {
   "cell_type": "code",
   "execution_count": 5,
   "id": "e39fd203",
   "metadata": {},
   "outputs": [],
   "source": [
    "def lName(s):\n",
    "    data=''\n",
    "    for i in s:\n",
    "        if(i != '/'):\n",
    "            data += i\n",
    "    return data"
   ]
  },
  {
   "cell_type": "code",
   "execution_count": 6,
   "id": "dd95696e",
   "metadata": {},
   "outputs": [],
   "source": [
    "def getNameByID(indiList, ID):\n",
    "    for i in indiList:\n",
    "        if(i[0] == ID):\n",
    "            return i[1]\n",
    "def fileLength(f):\n",
    "    for i,l in enumerate(f):\n",
    "        pass\n",
    "    return i+1"
   ]
  },
  {
   "cell_type": "code",
   "execution_count": 7,
   "id": "cca28d7a",
   "metadata": {},
   "outputs": [],
   "source": [
    "def gedcomRead(fileName):\n",
    "    readFile = open(fileName,'r')\n",
    "    f = fileLength(open(fileName))\n",
    "    indiVal = 0\n",
    "    famVal = 0\n",
    "    indi_list = []\n",
    "    fam_list = []\n",
    "    indiData = indiList()\n",
    "    famData = famList()\n",
    "    for line in readFile:\n",
    "        s = line.split()\n",
    "        if(s != []):\n",
    "            if(s[0] == '1'):\n",
    "                if(s[1] == 'NAME'):\n",
    "                    indiData[1] = s[2] + \" \" + lName(s[3])\n",
    "                if(s[1] == 'SEX'):\n",
    "                    indiData[2] = s[2]\n",
    "                if(s[1] == 'BIRT'):\n",
    "                    dateID = 'BIRT'\n",
    "                if(s[1] == 'DEAT'):\n",
    "                    dateID = 'DEAT'\n",
    "                if(s[1] == 'MARR'):\n",
    "                    dateID = 'MARR'\n",
    "                if(s[1] == 'DIV'):\n",
    "                    dateID = 'DIV'\n",
    "                if(s[1] == 'FAMS'):\n",
    "                    indiData[5] = s[2]\n",
    "                if(s[1] == 'FAMC'):\n",
    "                    indiData[6] = s[2]\n",
    "                if(s[1] == 'HUSB'):\n",
    "                    famData[1] = s[2]\n",
    "                if(s[1] == 'WIFE'):\n",
    "                    famData[2] = s[2]\n",
    "                if(s[1] == 'CHIL'):\n",
    "                    famData[5].append(s[2])\n",
    "            if(s[0] == '2'):\n",
    "                if(s[1] == 'DATE'):\n",
    "                    date = s[4] + \" \" + s[3] + \" \" + s[2]\n",
    "                    if(dateID == 'BIRT'):\n",
    "                        indiData[3] = date\n",
    "                    if(dateID == 'DEAT'):\n",
    "                        indiData[4] = date\n",
    "                    if(dateID == 'MARR'):\n",
    "                        famData[3] = date\n",
    "                    if(dateID == 'DIV'):\n",
    "                        famData[4] = date\n",
    "        if(s[0] == '0'):\n",
    "            if(indiVal == 1):\n",
    "                indi_list.append(indiData)\n",
    "                indiData = indiList()\n",
    "                indiVal = 0\n",
    "            if(famVal == 1):\n",
    "                fam_list.append(famData)\n",
    "                famData = famList()\n",
    "                famVal = 0\n",
    "            if(s[1] in ['NOTE', 'HEAD', 'TRLR']):\n",
    "                pass\n",
    "            else:\n",
    "                if(s[2] == 'INDI'):\n",
    "                    indiVal = 1\n",
    "                    indiData[0] = (s[1])\n",
    "                if(s[2] == 'FAM'):\n",
    "                    famVal = 1\n",
    "                    famData[0] = (s[1])\n",
    "    return indi_list, fam_list"
   ]
  },
  {
   "cell_type": "code",
   "execution_count": 8,
   "id": "31178f79",
   "metadata": {},
   "outputs": [],
   "source": [
    "def isAlive(deadVar):\n",
    "    if(deadVar == 0):\n",
    "        return True\n",
    "    else :\n",
    "        return False\n",
    "def convertToNA(value):\n",
    "    if(value == 0):\n",
    "        return \"NA\"\n",
    "    else:\n",
    "        return value\n",
    "def calculateAge(birthDate): \n",
    "    today = date.today() \n",
    "    age = today.year - int(birthDate[0]) - ((today.month, today.day) < (int(getMonth(birthDate[1])), int(birthDate[2]))) \n",
    "    return age"
   ]
  },
  {
   "cell_type": "code",
   "execution_count": 9,
   "id": "4537443f",
   "metadata": {},
   "outputs": [],
   "source": [
    "def splitBdate(dateStr):\n",
    "    dateArr = dateStr.split(\" \")\n",
    "    return dateArr\n",
    "def getMonth(monthStr):\n",
    "    full_date = datetime.datetime.strptime(monthStr, \"%b\")\n",
    "    return full_date.month"
   ]
  },
  {
   "cell_type": "code",
   "execution_count": 29,
   "id": "e1ab1988",
   "metadata": {},
   "outputs": [],
   "source": [
    "def dataframe(indi_list,fam_list):\n",
    "        df_indi = pd.DataFrame(columns=[\"ID\", \"Name\" , \"Sex\", \"Birth Date\", \"Age\" , \"Alive\" , \"Death Date\" , \"Spouse\" , \"Child\"])\n",
    "        df_fam = pd.DataFrame(columns=[\"ID\", \"Married\", \"Divorced\", \"Husband ID\", \"Husband's Name\" , \"Wife ID\" , \"Wife's Name\" , \"Children\"])\n",
    "        for i in indi_list:\n",
    "                row_list = {'ID':i[0] ,'Name':i[1],'Sex':i[2],\n",
    "                'Birth Date':i[3],'Age':calculateAge(splitBdate(i[3])),'Alive':isAlive(i[4]),\n",
    "                'Death Date':convertToNA(i[4]),'Spouse':convertToNA(i[5]),'Child':convertToNA(i[6])}\n",
    "                df_indi = df_indi.append(row_list,ignore_index=True)\n",
    "        for i in fam_list:\n",
    "                row_list = {\"ID\": i[0] , \"Married\": i[3] , \"Divorced\": convertToNA(i[4]) ,\n",
    "                \"Husband ID\": i[1], \"Husband's Name\": getNameByID(indi_list,i[1]), \n",
    "                \"Wife ID\": i[2]  , \"Wife's Name\": getNameByID(indi_list,i[2]), \n",
    "                \"Children\": i[5]}\n",
    "                df_fam = df_fam.append(row_list,ignore_index=True)\n",
    "        return df_indi,df_fam\n"
   ]
  }
 ],
 "metadata": {
  "kernelspec": {
   "display_name": "Python 3 (ipykernel)",
   "language": "python",
   "name": "python3"
  },
  "language_info": {
   "codemirror_mode": {
    "name": "ipython",
    "version": 3
   },
   "file_extension": ".py",
   "mimetype": "text/x-python",
   "name": "python",
   "nbconvert_exporter": "python",
   "pygments_lexer": "ipython3",
   "version": "3.8.10"
  },
  "vscode": {
   "interpreter": {
    "hash": "ef392b7373726638f25c5b5a9ae7a2125364017db5464905a5bcdac062fc1c56"
   }
  }
 },
 "nbformat": 4,
 "nbformat_minor": 5
}
