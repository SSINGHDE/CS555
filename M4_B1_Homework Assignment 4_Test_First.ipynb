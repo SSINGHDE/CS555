{
 "cells": [
  {
   "cell_type": "code",
   "execution_count": 39,
   "id": "a1871a7f",
   "metadata": {},
   "outputs": [],
   "source": [
    "from datetime import date\n",
    "import datetime\n",
    "import unittest\n",
    "import ipynb.fs.full.M3_B2_PROJECT_3 as pj3"
   ]
  },
  {
   "cell_type": "code",
   "execution_count": 40,
   "id": "41cf9e32",
   "metadata": {},
   "outputs": [],
   "source": [
    "def story_u01(indiTable):\n",
    "    for row in indiTable:\n",
    "        row.border=False\n",
    "        row.header=False\n",
    "        row_birthdate = (row.get_string(fields = [\"Birth Date\"]).strip())\n",
    "        row_deathdate = (row.get_string(fields = [\"Death Date\"]).strip())\n",
    "        if isDateInPast(row_birthdate) is False:\n",
    "            print(\"Error:\",\"Individual ID \",row.get_string(fields = [\"Birth Date\"]), \"has Date of Birth in Future\" )\n",
    "        else: print(\"Record Check OK for Birth Dates \")\n",
    "            \n",
    "        if row_deathdate == 'NA':\n",
    "            print(\"Record Check OK for Death Dates \")\n",
    "            continue\n",
    "        elif isDateInPast(row_deathdate) is False:\n",
    "            print(\"Error:\",\"Individual ID \",row.get_string(fields = [\"Birth Date\"]), \"has Date of Death in Future\" ) \n",
    "        else: print(\"Record Check OK for Death Dates \")"
   ]
  },
  {
   "cell_type": "code",
   "execution_count": 41,
   "id": "92801359",
   "metadata": {},
   "outputs": [],
   "source": [
    "def splitDate(dateStr):\n",
    "    dateArr = dateStr.split(\" \")\n",
    "    return dateArr"
   ]
  },
  {
   "cell_type": "code",
   "execution_count": 42,
   "id": "73871681",
   "metadata": {},
   "outputs": [],
   "source": [
    "def getMonth(monthStr):\n",
    "    full_date = datetime.datetime.strptime(monthStr, \"%b\")\n",
    "    return full_date.month"
   ]
  },
  {
   "cell_type": "code",
   "execution_count": 43,
   "id": "d65bc03a",
   "metadata": {},
   "outputs": [],
   "source": [
    "### function to check if the passed date is in the past or not\n",
    "### returns true if date is in the past\n",
    "def isDateInPast(eachDate):\n",
    "    today = str(date.today())\n",
    "    today = today.split(\"-\")\n",
    "    compareDate = splitDate(eachDate)\n",
    "    currentDate = datetime.date(int(today[0]), int(today[1]), int(today[2]))\n",
    "    checkingDate = datetime.date(int(compareDate[0]), int(getMonth(compareDate[1])), int(compareDate[2]))\n",
    "    \n",
    "    compare = checkingDate < currentDate\n",
    "    if (compare == False):\n",
    "        return False;\n",
    "    else:\n",
    "        return True"
   ]
  },
  {
   "cell_type": "code",
   "execution_count": 44,
   "id": "03007daf",
   "metadata": {},
   "outputs": [],
   "source": [
    "### unit tests to check if the passed date is in the past or not\n",
    "class TestDateInPast(unittest.TestCase):\n",
    "    ## test if past date gives True\n",
    "    def test_past_date(self):\n",
    "        self.assertEqual(isDateInPast(\"2019 JAN 15\"), True)\n",
    "    ## test if future date gives False\n",
    "    def test_future_date(self):\n",
    "        self.assertEqual(isDateInPast(\"2025 MAR 26\"), False)\n",
    "    ## test if past date gives True with assertTrue\n",
    "    def test_past_true(self):\n",
    "        self.assertTrue(isDateInPast(\"1958 Feb 4\"))\n",
    "    ## test if future date gives False with assertFalse\n",
    "    def test_future_false(self):\n",
    "        self.assertFalse(isDateInPast(\"2022 Dec 12\"))\n",
    "    ## test if current date gives False with assertTrue\n",
    "    def test_current(self):\n",
    "        self.assertEqual(isDateInPast(\"2022 Jun 6\"), False)"
   ]
  },
  {
   "cell_type": "code",
   "execution_count": 45,
   "id": "7c83f3d7",
   "metadata": {},
   "outputs": [
    {
     "name": "stderr",
     "output_type": "stream",
     "text": [
      "test_current (__main__.TestDateInPast) ... ok\n",
      "test_future_date (__main__.TestDateInPast) ... ok\n",
      "test_future_false (__main__.TestDateInPast) ... ok\n",
      "test_past_date (__main__.TestDateInPast) ... ok\n",
      "test_past_true (__main__.TestDateInPast) ... ok\n",
      "\n",
      "----------------------------------------------------------------------\n",
      "Ran 5 tests in 0.002s\n",
      "\n",
      "OK\n"
     ]
    },
    {
     "data": {
      "text/plain": [
       "<unittest.main.TestProgram at 0x292f5ae3700>"
      ]
     },
     "execution_count": 45,
     "metadata": {},
     "output_type": "execute_result"
    }
   ],
   "source": [
    "unittest.main(argv=[''], verbosity=2, exit=False)"
   ]
  },
  {
   "cell_type": "code",
   "execution_count": 46,
   "id": "0ea735b5",
   "metadata": {},
   "outputs": [
    {
     "name": "stdout",
     "output_type": "stream",
     "text": [
      "Individials\n",
      "Families\n"
     ]
    }
   ],
   "source": [
    "file_path = r\"C:\\Users\\sidha\\Stevens\\CS 555 - Agile Methods for Software Development\\Project\\Project 2\\Family tree.ged\"\n",
    "indiList,famList = pj3.gedcomRead(file_path)\n",
    "indiTable , famTable = pj3.prettytab(indiList,famList)"
   ]
  },
  {
   "cell_type": "code",
   "execution_count": 49,
   "id": "76718d5f",
   "metadata": {},
   "outputs": [
    {
     "name": "stdout",
     "output_type": "stream",
     "text": [
      "Individuals\n",
      "+-------+----------------+-----+-------------+-----+-------+-------------+--------+-------+\n",
      "|   ID  |      Name      | Sex |  Birth Date | Age | Alive |  Death Date | Spouse | Child |\n",
      "+-------+----------------+-----+-------------+-----+-------+-------------+--------+-------+\n",
      "| @I10@ | Shivkumar Rao  |  M  | 1961 SEP 13 |  60 |  True |      NA     |  @F8@  |   NA  |\n",
      "| @I11@ |  Keshav Kumar  |  M  |  1985 JAN 2 |  37 |  True |      NA     |  @F9@  |  @F5@ |\n",
      "| @I12@ | Priya Pradhan  |  F  | 1965 JUN 19 |  56 |  True |      NA     |  @F8@  |   NA  |\n",
      "| @I13@ |   Shilpa Rao   |  F  | 1983 AUG 21 |  38 |  True |      NA     | @F10@  |  @F8@ |\n",
      "| @I14@ |   Satish Rao   |  M  | 1994 JUN 18 |  27 |  True |      NA     |   NA   |  @F4@ |\n",
      "| @I15@ |   Arun Gupta   |  M  |  1982 OCT 5 |  39 |  True |      NA     |  @F7@  |   NA  |\n",
      "| @I16@ |  Nisha Gupta   |  F  | 2009 DEC 24 |  12 |  True |      NA     |   NA   |  @F7@ |\n",
      "| @I17@ |   Nina Singh   |  F  | 1989 JAN 31 |  33 |  True |      NA     |  @F1@  |   NA  |\n",
      "| @I18@ |   Rishi Seth   |  M  | 1983 APR 22 |  39 |  True |      NA     | @F10@  |   NA  |\n",
      "| @I19@ | Sakshi Kapoor  |  F  | 1988 FEB 29 |  34 |  True |      NA     |  @F9@  |   NA  |\n",
      "|  @I1@ |  Samay Singh   |  M  | 1987 MAY 13 |  35 |  True |      NA     |  @F1@  |  @F2@ |\n",
      "| @I20@ |  Sareen Kumar  |  F  | 2013 APR 20 |  9  |  True |      NA     |   NA   |  @F9@ |\n",
      "|  @I2@ | Satyajit Singh |  M  |  1958 FEB 4 |  64 |  True |      NA     |  @F2@  |  @F3@ |\n",
      "|  @I3@ | Susmita Sharma |  F  | 1960 JAN 15 |  62 |  True |      NA     |  @F2@  |   NA  |\n",
      "|  @I4@ | Sukumar Singh  |  M  | 1934 DEC 14 |  87 |  True |      NA     |  @F3@  |   NA  |\n",
      "|  @I5@ | Saswati Kumari |  F  | 1935 NOV 30 |  86 |  True |      NA     |  @F3@  |   NA  |\n",
      "|  @I6@ |  Sujata Singh  |  F  |  1962 JUL 8 |  59 |  True |      NA     |  @F6@  |  @F3@ |\n",
      "|  @I7@ | Sheetal Singh  |  F  | 1985 MAR 12 |  37 |  True |      NA     |  @F7@  |  @F2@ |\n",
      "|  @I8@ | Sushila Singh  |  F  |  1961 APR 9 |  61 |  True |      NA     |   NA   |  @F3@ |\n",
      "|  @I9@ | Kaplesh Kumar  |  M  |  1960 AUG 6 |  61 | False | 1990 OCT 16 |  @F5@  |   NA  |\n",
      "+-------+----------------+-----+-------------+-----+-------+-------------+--------+-------+\n",
      "Families\n",
      "+-------+-------------+-------------+------------+----------------+--------+----------------+--------------------------+\n",
      "|   ID  |   Married   |   Divorced  | Husband ID | Husband's Name | Wif ID |  Wife's Name   |         Children         |\n",
      "+-------+-------------+-------------+------------+----------------+--------+----------------+--------------------------+\n",
      "| @F10@ | 2022 MAR 14 |      NA     |   @I18@    |   Rishi Seth   | @I13@  |   Shilpa Rao   |            []            |\n",
      "|  @F1@ | 2014 DEC 18 |      NA     |    @I1@    |  Samay Singh   | @I17@  |   Nina Singh   |            []            |\n",
      "|  @F2@ | 1980 SEP 26 |      NA     |    @I2@    | Satyajit Singh |  @I3@  | Susmita Sharma |     ['@I1@', '@I7@']     |\n",
      "|  @F3@ | 1956 SEP 17 |      NA     |    @I4@    | Sukumar Singh  |  @I5@  | Saswati Kumari | ['@I2@', '@I6@', '@I8@'] |\n",
      "|  @F4@ | 1993 MAY 12 |      NA     |   @I10@    | Shivkumar Rao  |  @I6@  |  Sujata Singh  |        ['@I14@']         |\n",
      "|  @F5@ | 1981 MAY 10 |      NA     |    @I9@    | Kaplesh Kumar  |  @I6@  |  Sujata Singh  |        ['@I11@']         |\n",
      "|  @F6@ |      0      |      NA     |     0      |      None      |  @I6@  |  Sujata Singh  |            []            |\n",
      "|  @F7@ |  2005 MAY 6 |      NA     |   @I15@    |   Arun Gupta   |  @I7@  | Sheetal Singh  |        ['@I16@']         |\n",
      "|  @F8@ | 1981 MAY 23 | 1988 AUG 15 |   @I10@    | Shivkumar Rao  | @I12@  | Priya Pradhan  |        ['@I13@']         |\n",
      "|  @F9@ | 2010 JUN 16 |      NA     |   @I11@    |  Keshav Kumar  | @I19@  | Sakshi Kapoor  |        ['@I20@']         |\n",
      "+-------+-------------+-------------+------------+----------------+--------+----------------+--------------------------+\n"
     ]
    }
   ],
   "source": [
    "print('Individuals')\n",
    "pj3.printtable(indiTable)\n",
    "print('Families')\n",
    "pj3.printtable(famTable)"
   ]
  },
  {
   "cell_type": "code",
   "execution_count": 48,
   "id": "b780bf44",
   "metadata": {},
   "outputs": [
    {
     "name": "stdout",
     "output_type": "stream",
     "text": [
      "Record Check OK for Birth Dates \n",
      "Record Check OK for Death Dates \n",
      "Record Check OK for Birth Dates \n",
      "Record Check OK for Death Dates \n",
      "Record Check OK for Birth Dates \n",
      "Record Check OK for Death Dates \n",
      "Record Check OK for Birth Dates \n",
      "Record Check OK for Death Dates \n",
      "Record Check OK for Birth Dates \n",
      "Record Check OK for Death Dates \n",
      "Record Check OK for Birth Dates \n",
      "Record Check OK for Death Dates \n",
      "Record Check OK for Birth Dates \n",
      "Record Check OK for Death Dates \n",
      "Record Check OK for Birth Dates \n",
      "Record Check OK for Death Dates \n",
      "Record Check OK for Birth Dates \n",
      "Record Check OK for Death Dates \n",
      "Record Check OK for Birth Dates \n",
      "Record Check OK for Death Dates \n",
      "Record Check OK for Birth Dates \n",
      "Record Check OK for Death Dates \n",
      "Record Check OK for Birth Dates \n",
      "Record Check OK for Death Dates \n",
      "Record Check OK for Birth Dates \n",
      "Record Check OK for Death Dates \n",
      "Record Check OK for Birth Dates \n",
      "Record Check OK for Death Dates \n",
      "Record Check OK for Birth Dates \n",
      "Record Check OK for Death Dates \n",
      "Record Check OK for Birth Dates \n",
      "Record Check OK for Death Dates \n",
      "Record Check OK for Birth Dates \n",
      "Record Check OK for Death Dates \n",
      "Record Check OK for Birth Dates \n",
      "Record Check OK for Death Dates \n",
      "Record Check OK for Birth Dates \n",
      "Record Check OK for Death Dates \n",
      "Record Check OK for Birth Dates \n",
      "Record Check OK for Death Dates \n"
     ]
    }
   ],
   "source": [
    "story_u01(indiTable)"
   ]
  }
 ],
 "metadata": {
  "kernelspec": {
   "display_name": "Python 3 (ipykernel)",
   "language": "python",
   "name": "python3"
  },
  "language_info": {
   "codemirror_mode": {
    "name": "ipython",
    "version": 3
   },
   "file_extension": ".py",
   "mimetype": "text/x-python",
   "name": "python",
   "nbconvert_exporter": "python",
   "pygments_lexer": "ipython3",
   "version": "3.8.10"
  }
 },
 "nbformat": 4,
 "nbformat_minor": 5
}
